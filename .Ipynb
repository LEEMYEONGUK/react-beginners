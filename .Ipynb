{
 "cells": [
  {
   "cell_type": "markdown",
   "metadata": {},
   "source": [
    "암기할 필요 없다. 이해하기\n",
    "\n",
    "\n",
    "리액트를 import했기 때문에 createElement function을 가진 리액트 object에 접근 가능\n",
    "const span 그러나 createElement(“span”) 은 반드시 생성하고자 하는 HTML 태그와 똑같아야함\n",
    "\n",
    "\n",
    "React JS - 어플리케이션이 아주 인터랙티브하도록 만들어주는 library. 엔진과 같다.\n",
    "React-dom - library 또는 package. 모든 react element들을 HTML body에 둘 수 있도록 해줌.\n",
    "ReactDOM.render() - render의 의미는 react element를 가지고 HTML로 만들어 배치한다는 것. 즉, 사용자에게 보여준다는 의미\n",
    "ReactDOM.render(span, span이 가야할 위치)\n",
    "-> 그래서 보통 body에 id=“root” 만들어서 span을 root 안에 두라고 함\n",
    "\n",
    "\n",
    "React.createElement(\"span\", {span의 property}, “span의 내용”)\n",
    "-> property는 class name, id도 가능 style도 가능\n",
    "-> 참고만 하고 외우지 말기. 이렇게 쓸 일 없음\n",
    "\n",
    "\n",
    "바닐라JS는 HTML -> JS 순서\n",
    "리액트는 JS -> HTML 순서\n",
    "\n",
    "\n",
    "JS가 element를 생성하고 React JS가 그것을 HTML로 번역하는 것\n",
    "React JS는 업데이트 해야 하는 HTML을 업데이트 할 수 있음"
   ]
  },
  {
   "cell_type": "markdown",
   "metadata": {},
   "source": [
    "react18에서는 ReactDOM.create"
   ]
  },
  {
   "cell_type": "markdown",
   "metadata": {},
   "source": [
    "Root(root).render(span); 이렇게 사용\n",
    "ReactDOM.render(span, root) 는 17버전"
   ]
  },
  {
   "cell_type": "markdown",
   "metadata": {},
   "source": [
    "변경된 부분만 업데이트된다는게 왜 좋은건가 했는데\n",
    "리액트가 아닌 경우, 일반 자바스크립트를 쓴 브라우저는 노드정보가 바뀔때마다 노드트리를 처음부터 다시 생성한대요 5단계에 걸쳐서. 근데 리액트는 가상돔을 써서 우리 시야에 보이는 부분만 수정해서 보여주고 모든 업뎃이 끝나면 일괄로 합쳐서 실제 돔에 던져준다고합니다! 이거 면접때 많이 물어보는거래요. 브라우저 작동원리와 연관있음. 니꼬쌤이 말하는 “렌더”가, 렌더트리를 말씀하시는 것 같은데 프엔은 이 렌더트리 단계를 얼마나 최적화하는가가 중요하다더라구요! 이상입니다 __"
   ]
  }
 ],
 "metadata": {
  "language_info": {
   "name": "python"
  }
 },
 "nbformat": 4,
 "nbformat_minor": 2
}
