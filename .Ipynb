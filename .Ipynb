{
 "cells": [
  {
   "cell_type": "markdown",
   "metadata": {},
   "source": [
    "암기할 필요 없다. 이해하기\n",
    "\n",
    "\n",
    "리액트를 import했기 때문에 createElement function을 가진 리액트 object에 접근 가능\n",
    "const span 그러나 createElement(“span”) 은 반드시 생성하고자 하는 HTML 태그와 똑같아야함\n",
    "\n",
    "\n",
    "React JS - 어플리케이션이 아주 인터랙티브하도록 만들어주는 library. 엔진과 같다.\n",
    "React-dom - library 또는 package. 모든 react element들을 HTML body에 둘 수 있도록 해줌.\n",
    "ReactDOM.render() - render의 의미는 react element를 가지고 HTML로 만들어 배치한다는 것. 즉, 사용자에게 보여준다는 의미\n",
    "ReactDOM.render(span, span이 가야할 위치)\n",
    "-> 그래서 보통 body에 id=“root” 만들어서 span을 root 안에 두라고 함\n",
    "\n",
    "\n",
    "React.createElement(\"span\", {span의 property}, “span의 내용”)\n",
    "-> property는 class name, id도 가능 style도 가능\n",
    "-> 참고만 하고 외우지 말기. 이렇게 쓸 일 없음\n",
    "\n",
    "\n",
    "바닐라JS는 HTML -> JS 순서\n",
    "리액트는 JS -> HTML 순서\n",
    "\n",
    "\n",
    "JS가 element를 생성하고 React JS가 그것을 HTML로 번역하는 것\n",
    "React JS는 업데이트 해야 하는 HTML을 업데이트 할 수 있음"
   ]
  },
  {
   "cell_type": "markdown",
   "metadata": {},
   "source": [
    "react18에서는 ReactDOM.create"
   ]
  },
  {
   "cell_type": "markdown",
   "metadata": {},
   "source": [
    "Root(root).render(span); 이렇게 사용\n",
    "ReactDOM.render(span, root) 는 17버전"
   ]
  },
  {
   "cell_type": "markdown",
   "metadata": {},
   "source": [
    "변경된 부분만 업데이트된다는게 왜 좋은건가 했는데\n",
    "리액트가 아닌 경우, 일반 자바스크립트를 쓴 브라우저는 노드정보가 바뀔때마다 노드트리를 처음부터 다시 생성한대요 5단계에 걸쳐서. 근데 리액트는 가상돔을 써서 우리 시야에 보이는 부분만 수정해서 보여주고 모든 업뎃이 끝나면 일괄로 합쳐서 실제 돔에 던져준다고합니다! 이거 면접때 많이 물어보는거래요. 브라우저 작동원리와 연관있음. 니꼬쌤이 말하는 “렌더”가, 렌더트리를 말씀하시는 것 같은데 프엔은 이 렌더트리 단계를 얼마나 최적화하는가가 중요하다더라구요! 이상입니다 __"
   ]
  },
  {
   "cell_type": "markdown",
   "metadata": {},
   "source": [
    "1. props에 function도 보낼 수 있음\n",
    "이것은 JSX로 html 태그 자체에 이벤트 리스너를 넣는것과는 전혀 다른 것임.\n",
    "그저 이벤트를 실행시키는 함수가 프로퍼티로 들어간 것임.\n",
    "prop은 그냥 부모에서 자식으로 데이터를 넘길 때 사용하는 argument의 역할이니까!\n",
    "\n",
    "2. (07:41~) 부모의 상태를 바꾸는 함수를 만들었고, 부모 컴포넌트에서 그 함수를 prop으로 보내면 자식 컴포넌트에서 그 함수가 실행된다.\n",
    "\n",
    "3. 불필요한 re-render는 React.memo()로 관리할 수 있음\n",
    "부모 컴포넌트의 state를 변경하면 당연히 그 자식 컴포넌트들도 Re-render가 일어남. 불필요한 렌더링이 발생할 수도 있는데, 이 경우에는 React.memo()로 prop의 변경이 일어난 부분만 렌더링 시킬 수 있음. 아주 많은 자식 컴포넌트를 가지고 있는 부모 컴포넌트일 때 사용하면 될듯.\n",
    "\n",
    "* React.memo()\n",
    "컴포넌트가 React.memo()로 wrapping 될 때, React는 컴포넌트를 렌더링하고 결과를 메모이징(Memoizing)한다. 그리고 다음 렌더링이 일어날 때 props가 같다면, React는 메모이징(Memoizing)된 내용을 재사용한다."
   ]
  },
  {
   "cell_type": "markdown",
   "metadata": {},
   "source": [
    "useEffect 글자를 타이핑할 때마다 API를 새로 호출하지 않고 한번만 호출해준다.\n",
    "\n",
    "search keyword에 변화가 있을 때 만! marvel영화를 검색하고 싶을 때\n",
    "즉, 특정한 코드만 변화했을 때 원하는 코드들을 실행할 수 있는 방법\n",
    "-> useEffect(() => {\n",
    "console.log(\"SEARCH FOR\", keyword);\n",
    "}, []);\n",
    "이렇게 실행하면 1번만 됨\n",
    "그리고 []자리에 keyword 써줌\n",
    "-> keyword가 변화할 때 코드를 실행할 거라고 react.js에게 알려주는 것.\n",
    "이것이 바로 빈 array를 써주었을 때 코드가 단 한번만 실행되는 이유임\n",
    "react가 지켜볼 게 아무것도 없으니 처음 한번만 실행되는 것\n",
    "\n",
    "useEffect(() => {\n",
    "console.log(\"I run when 'keyword & counter' changes.\")\n",
    "}, [keyword, counter]);\n",
    "-> 2개도 가능"
   ]
  },
  {
   "cell_type": "markdown",
   "metadata": {},
   "source": [
    "• 리액트를 사용하는 이유: 최소 단위의 렌더링을 위해\n",
    "• useState(): 변수, 변수를 제어하는 함수로 구성되며 변하는 값을 제어, 해당 부분의 리렌더링을 위함\n",
    "• props: 태그의 속성 값을 함수의 아규먼트 처럼 컴포넌트에 값을 전달해준다.\n",
    "• useEffect(): 코드의 실행 시점을 관리할 수 있는 선택권을 얻는 방어막 같은 존재, 디펜던시가 없을 경우 최초 1회 실행, 있을 경우 해당 값이 변할 경우 실행한다. 이 때 디펜던시는 여러개 입력이 가능하다.\n",
    "\n",
    "🏴 부모 컴포넌트에서 리렌더링이 일어날 경우 모든 자식들이 리렌더링이 된다.(wa can use memo)\n",
    "🏴 propType을 설치하고 props의 타입을 지정해 줄 수 있다. 이 때 isRequired로 필수값을 지정 가능"
   ]
  },
  {
   "cell_type": "code",
   "execution_count": null,
   "metadata": {
    "vscode": {
     "languageId": "plaintext"
    }
   },
   "outputs": [],
   "source": [
    "useEffect(() => something(), [변수A]) 라고하면, 변수A가 변경될 떄 마다 useEffect는 실행된다. 변수A가 변경되면, 이전의 변수A 값을 가지고 return 함수가 실행된다.\n",
    "\n",
    "ex) 변수A =1 ->2 변경되는 시점에서 , useEffect()에서 return 외에는 변수A는 2이고, return 상황에서는 변수A는 1이다.\n",
    "\n",
    "뒤에 [ dependency ]에 아무것도 없다면( ex) [] ) 첫 렌더링시에 실행되고, return은 컴포넌트 unmount시(영상의 destroy시) 실행된다.\n",
    "\n",
    "#정리(clean-up)를 이용하는 Effects \n",
    "\n",
    "위에서 정리(clean-up)가 필요하지 않은 side effect를 보았지만, 정리(clean-up)가 필요한 effect도 있습니다. 외부 데이터에 구독(subscription)을 설정해야 하는 경우를 생각해보겠습니다. 이런 경우에 메모리 누수가 발생하지 않도록 정리(clean-up)하는 것은 매우 중요합니다.\n",
    "\n",
    "effect에서 함수를 반환하는 이유는 무엇일까요?\n",
    "이는 effect를 위한 추가적인 정리(clean-up) 메커니즘입니다. 모든 effect는 정리를 위한 함수를 반환할 수 있습니다.\n",
    "\n",
    "React가 effect를 정리(clean-up)하는 시점은 정확히 언제일까요?\n",
    "React는 컴포넌트가 마운트 해제되는 때에 정리(clean-up)를 실행합니다. 하지만 위의 예시에서 보았듯이 effect는 한번이 아니라 렌더링이 실행되는 때마다 실행됩니다. React가 다음 차례의 effect를 실행하기 전에 이전의 렌더링에서 파생된 effect 또한 정리하는 이유가 바로 이 때문입니다."
   ]
  }
 ],
 "metadata": {
  "language_info": {
   "name": "python"
  }
 },
 "nbformat": 4,
 "nbformat_minor": 2
}
