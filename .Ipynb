{
 "cells": [
  {
   "cell_type": "markdown",
   "metadata": {},
   "source": [
    "암기할 필요 없다. 이해하기\n",
    "\n",
    "\n",
    "리액트를 import했기 때문에 createElement function을 가진 리액트 object에 접근 가능\n",
    "const span 그러나 createElement(“span”) 은 반드시 생성하고자 하는 HTML 태그와 똑같아야함\n",
    "\n",
    "\n",
    "React JS - 어플리케이션이 아주 인터랙티브하도록 만들어주는 library. 엔진과 같다.\n",
    "React-dom - library 또는 package. 모든 react element들을 HTML body에 둘 수 있도록 해줌.\n",
    "ReactDOM.render() - render의 의미는 react element를 가지고 HTML로 만들어 배치한다는 것. 즉, 사용자에게 보여준다는 의미\n",
    "ReactDOM.render(span, span이 가야할 위치)\n",
    "-> 그래서 보통 body에 id=“root” 만들어서 span을 root 안에 두라고 함\n",
    "\n",
    "\n",
    "React.createElement(\"span\", {span의 property}, “span의 내용”)\n",
    "-> property는 class name, id도 가능 style도 가능\n",
    "-> 참고만 하고 외우지 말기. 이렇게 쓸 일 없음\n",
    "\n",
    "\n",
    "바닐라JS는 HTML -> JS 순서\n",
    "리액트는 JS -> HTML 순서\n",
    "\n",
    "\n",
    "JS가 element를 생성하고 React JS가 그것을 HTML로 번역하는 것\n",
    "React JS는 업데이트 해야 하는 HTML을 업데이트 할 수 있음"
   ]
  },
  {
   "cell_type": "markdown",
   "metadata": {},
   "source": [
    "react18에서는 ReactDOM.createRoot(root).render(span); 이렇게 사용\n",
    "ReactDOM.render(span, root) 는 17버전"
   ]
  }
 ],
 "metadata": {
  "language_info": {
   "name": "python"
  }
 },
 "nbformat": 4,
 "nbformat_minor": 2
}
